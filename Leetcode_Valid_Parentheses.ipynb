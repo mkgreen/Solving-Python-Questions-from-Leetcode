{
  "nbformat": 4,
  "nbformat_minor": 0,
  "metadata": {
    "colab": {
      "provenance": [],
      "authorship_tag": "ABX9TyO6p1jYmnjwQRouN6Q+oIjI",
      "include_colab_link": true
    },
    "kernelspec": {
      "name": "python3",
      "display_name": "Python 3"
    },
    "language_info": {
      "name": "python"
    }
  },
  "cells": [
    {
      "cell_type": "markdown",
      "metadata": {
        "id": "view-in-github",
        "colab_type": "text"
      },
      "source": [
        "<a href=\"https://colab.research.google.com/github/mkgreen/Solving-Python-Questions-from-Leetcode/blob/main/Leetcode_Valid_Parentheses.ipynb\" target=\"_parent\"><img src=\"https://colab.research.google.com/assets/colab-badge.svg\" alt=\"Open In Colab\"/></a>"
      ]
    },
    {
      "cell_type": "markdown",
      "source": [
        "# LC Valid Parentheses"
      ],
      "metadata": {
        "id": "eSzSls5-OKcu"
      }
    },
    {
      "cell_type": "markdown",
      "source": [
        "Given a string s containing just the characters '(', ')', '{', '}', '[' and ']', determine if the input string is valid.\n",
        "\n",
        "An input string is valid if:\n",
        "\n",
        "1. Open brackets must be closed by the same type of brackets.\n",
        "2. Open brackets must be closed in the correct order.\n",
        "3. Every close bracket has a corresponding open bracket of the same type."
      ],
      "metadata": {
        "id": "cv7vQ0v4Rfan"
      }
    },
    {
      "cell_type": "markdown",
      "source": [
        "**Example 1:**\n",
        "\n",
        "      Input: s = \"()\"\n",
        "      Output: true\n",
        "**Example 2:**\n",
        "\n",
        "      Input: s = \"()[]{}\"\n",
        "      Output: true\n",
        "**Example 3:**\n",
        "\n",
        "      Input: s = \"(]\"\n",
        "      Output: false\n",
        " \n",
        "\n",
        "Constraints:\n",
        "\n",
        "- 1 <= s.length <= 104\n",
        "- s consists of parentheses only '()[]{}'."
      ],
      "metadata": {
        "id": "0eGTp1m4RsJ7"
      }
    },
    {
      "cell_type": "code",
      "execution_count": 10,
      "metadata": {
        "colab": {
          "base_uri": "https://localhost:8080/"
        },
        "id": "-RRhF1UrN8Xu",
        "outputId": "0a874b9e-5439-423d-a581-b60940c4d3cd"
      },
      "outputs": [
        {
          "output_type": "stream",
          "name": "stdout",
          "text": [
            "True\n",
            "True\n",
            "False\n",
            "False\n",
            "True\n"
          ]
        }
      ],
      "source": [
        "def isValid(self, s: str) -> bool:\n",
        "    stack = []\n",
        "    for c in s:\n",
        "      if c in \"({[\":\n",
        "          stack.append(c)\n",
        "      elif c in \")}]\":\n",
        "        if not stack:\n",
        "          return False\n",
        "        elif c == \")\" and stack[-1] != \"(\":\n",
        "          return False\n",
        "        elif c == \"}\" and stack[-1] != \"{\":\n",
        "          return False\n",
        "        elif c == \"]\" and stack[-1] != \"[\":\n",
        "          return False\n",
        "        else:\n",
        "          stack.pop()\n",
        "      return not stack\n",
        "\n",
        "s = Solution()\n",
        "class Solution:\n",
        "    def isValid(self, s: str) -> bool:\n",
        "\n",
        "print(s.isValid(\"()\"))  # expected output: True\n",
        "print(s.isValid(\"()[]{}\"))  # expected output: True\n",
        "print(s.isValid(\"(]\"))  # expected output: False\n",
        "print(s.isValid(\"([)]\"))  # expected output: False\n",
        "print(s.isValid(\"{[]}\"))  # expected output: True"
      ]
    },
    {
      "cell_type": "markdown",
      "source": [
        "# Step-by-step Explanation:\n",
        "This is a class that contains a method called isValid, which takes a string s as input and returns a boolean value indicating whether the string has valid parentheses or not."
      ],
      "metadata": {
        "id": "poCDCisWQblE"
      }
    },
    {
      "cell_type": "code",
      "source": [
        "class Solution:\n",
        "    def isValid(self, s: str) -> bool:"
      ],
      "metadata": {
        "id": "Y4VJOnffPhGS"
      },
      "execution_count": null,
      "outputs": []
    },
    {
      "cell_type": "markdown",
      "source": [
        "Here, we initialize an empty stack and a dictionary called mapping that maps closing brackets to their corresponding opening brackets. This mapping will help us check if the closing bracket matches the opening bracket on the top of the stack."
      ],
      "metadata": {
        "id": "owpyQLMcQijt"
      }
    },
    {
      "cell_type": "code",
      "source": [
        "        stack = []\n",
        "        mapping = {\")\": \"(\", \"}\": \"{\", \"]\": \"[\"}"
      ],
      "metadata": {
        "id": "pSTC-pAFQfY-"
      },
      "execution_count": 11,
      "outputs": []
    },
    {
      "cell_type": "markdown",
      "source": [
        "Now, we iterate through each character in the input string s. If the character is a closing bracket, we pop the top element from the stack and check if it matches the corresponding opening bracket in the mapping dictionary. If it doesn't match, we know that the string is invalid, so we return False. If the character is an opening bracket, we push it onto the stack. Finally, if the stack is empty at the end of the loop, we know that all brackets have been matched, so we return True. If the stack is not empty, that means there are unmatched brackets, so we return False.\n",
        "\n",
        "Here's an example to show how the algorithm works: suppose we have the string s = \"([{}])\".\n",
        "\n",
        "- We start by pushing the opening brackets onto the stack: [\"(\", \"[\", \"{\"].\n",
        "- When we encounter the closing bracket \")\", we pop the top element from the stack, which is \"{\", and check if it matches the corresponding opening bracket. Since it doesn't match, we return False.\n",
        "- If all brackets match, the stack will be empty at the end, and we'll return True."
      ],
      "metadata": {
        "id": "zIfGTM3_Qqux"
      }
    },
    {
      "cell_type": "code",
      "source": [
        "        for char in s:\n",
        "            if char in mapping:\n",
        "                top_element = stack.pop() if stack else '#'\n",
        "                if mapping[char] != top_element:\n",
        "                    return False\n",
        "            else:\n",
        "                stack.append(char)\n",
        "        return not stack"
      ],
      "metadata": {
        "id": "wzSf2OwmQgTJ"
      },
      "execution_count": null,
      "outputs": []
    }
  ]
}