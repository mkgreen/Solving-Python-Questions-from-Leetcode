{
  "nbformat": 4,
  "nbformat_minor": 0,
  "metadata": {
    "colab": {
      "provenance": [],
      "authorship_tag": "ABX9TyMSfq8RxDLj5vin27veWZAM",
      "include_colab_link": true
    },
    "kernelspec": {
      "name": "python3",
      "display_name": "Python 3"
    },
    "language_info": {
      "name": "python"
    }
  },
  "cells": [
    {
      "cell_type": "markdown",
      "metadata": {
        "id": "view-in-github",
        "colab_type": "text"
      },
      "source": [
        "<a href=\"https://colab.research.google.com/github/mkgreen/Solving-Python-Questions-from-Leetcode/blob/main/Leetcode_Palindrome_Number.ipynb\" target=\"_parent\"><img src=\"https://colab.research.google.com/assets/colab-badge.svg\" alt=\"Open In Colab\"/></a>"
      ]
    },
    {
      "cell_type": "markdown",
      "source": [
        "# LC Palindrom Number Question"
      ],
      "metadata": {
        "id": "kesBiHu0N8UJ"
      }
    },
    {
      "cell_type": "markdown",
      "source": [
        "\n",
        "      Given an integer x, return true if x is a palindrome, and false otherwise.\n",
        "\n",
        "      Constraints:\n",
        "\n",
        "      -231 <= x <= 231 - 1"
      ],
      "metadata": {
        "id": "VvAxec9cJGtj"
      }
    },
    {
      "cell_type": "markdown",
      "source": [
        "One option to determine whether an integer x is a palindrome is possible through the following steps:\n",
        "\n",
        "1. Convert x to a string using the str() function in Python.\n",
        "2. Check if the string is equal to its reverse using the slice notation [::-1] to create a copy of the string in reverse order.\n",
        "3. If the string is equal to its reverse, return True. Otherwise, return False.\n",
        "\n",
        "The following code implements this solution:"
      ],
      "metadata": {
        "id": "oKaO7FFJalNX"
      }
    },
    {
      "cell_type": "code",
      "source": [
        "def isPalindrome(x):\n",
        "  # Convert the integer to a string\n",
        "  x_str = str(x)\n",
        "\n",
        "  # check if the string is equal to its reverse\n",
        "  return x_str == x_str[::-1]"
      ],
      "metadata": {
        "id": "ptoQ54pGJVFO"
      },
      "execution_count": 1,
      "outputs": []
    },
    {
      "cell_type": "markdown",
      "source": [
        "The function 'isPalindrome(x)' takes an integer 'x' as input, converts it to a string 's,' and checks whether 's' is equal to its reverse. If 's' equals its reverse, the function returns True. Otherwise, it returns False.\n",
        "\n",
        "To use the function, call it with an integer argument. If the integer is a palindrome, the function returns True. If it is not a palindrome, the function returns False. For example:"
      ],
      "metadata": {
        "id": "wsqXwkxzbsVO"
      }
    },
    {
      "cell_type": "code",
      "source": [
        "isPalindrome(121)"
      ],
      "metadata": {
        "colab": {
          "base_uri": "https://localhost:8080/"
        },
        "id": "dAZcFer8cOKl",
        "outputId": "de4f011a-8504-447d-b530-bc8cde94f211"
      },
      "execution_count": 2,
      "outputs": [
        {
          "output_type": "execute_result",
          "data": {
            "text/plain": [
              "True"
            ]
          },
          "metadata": {},
          "execution_count": 2
        }
      ]
    },
    {
      "cell_type": "code",
      "source": [
        "isPalindrome(1234)"
      ],
      "metadata": {
        "colab": {
          "base_uri": "https://localhost:8080/"
        },
        "id": "YUb1fk7vcPY4",
        "outputId": "58e23c63-3e9c-4afc-a6d6-e984bfbbd623"
      },
      "execution_count": 3,
      "outputs": [
        {
          "output_type": "execute_result",
          "data": {
            "text/plain": [
              "False"
            ]
          },
          "metadata": {},
          "execution_count": 3
        }
      ]
    },
    {
      "cell_type": "markdown",
      "source": [
        "      Follow up: Could you solve it without converting the integer to a string?"
      ],
      "metadata": {
        "id": "bwG1tfszOi-A"
      }
    },
    {
      "cell_type": "markdown",
      "source": [
        "The 'isPalindrome(x)' function below checks if the integer x is a palindrome without converting it to a string.\n",
        "\n",
        "First, the function checks if x is negative, as negative numbers cannot be palindromes. If x is negative, the function immediately returns False.\n",
        "\n",
        "Next, the function determines the number of digits in x by repeatedly dividing it by ten until the quotient is less than 10. Finally, the divisor variable keeps track of the place value of the leftmost digit in the number.\n",
        "\n",
        "Then, the function compares the leftmost and rightmost digits of x and continues this process until all the digits have been compared. If the left and right digits are not equal at any point, the function returns False, as the number is not a palindrome.\n",
        "If all the digits have been compared and are equal, the function returns True, as the number is a palindrome.\n",
        "\n",
        "For example:"
      ],
      "metadata": {
        "id": "jTCeJB0JfTMc"
      }
    },
    {
      "cell_type": "code",
      "source": [
        "def isPalindrome(x):\n",
        "  # addressing negative numbers\n",
        "  if x < 0:\n",
        "    return False\n",
        "\n",
        "  # Determining number of digits in integer\n",
        "  num_digits = 0 \n",
        "  temp = x\n",
        "  while temp > 0:\n",
        "    num_digits +=1\n",
        "    temp //= 10\n",
        "\n",
        "  # Extract the digits of the integer and compare\n",
        "  left = 10**(num_digits - 1)\n",
        "  right = 1\n",
        "  while left >= right:\n",
        "    if (x // left) % 10 != (x // right) % 10:\n",
        "      return False\n",
        "    left //= 10\n",
        "    right *= 10\n",
        "\n",
        "  # if all digits match the integer is a palindrome\n",
        "  return True"
      ],
      "metadata": {
        "id": "Vz4pPzIMJbEk"
      },
      "execution_count": 4,
      "outputs": []
    },
    {
      "cell_type": "markdown",
      "source": [
        "Testing the function:"
      ],
      "metadata": {
        "id": "Eu8b-ljFff2o"
      }
    },
    {
      "cell_type": "code",
      "source": [
        "isPalindrome(1234321)"
      ],
      "metadata": {
        "colab": {
          "base_uri": "https://localhost:8080/"
        },
        "id": "tGTAwpHmdD9P",
        "outputId": "5e379cc8-da72-4f4f-e6db-975551974112"
      },
      "execution_count": 5,
      "outputs": [
        {
          "output_type": "execute_result",
          "data": {
            "text/plain": [
              "True"
            ]
          },
          "metadata": {},
          "execution_count": 5
        }
      ]
    },
    {
      "cell_type": "code",
      "source": [
        "isPalindrome(-1221)"
      ],
      "metadata": {
        "colab": {
          "base_uri": "https://localhost:8080/"
        },
        "id": "8ox-ylFpdJjs",
        "outputId": "934b9615-7752-45a8-a09b-c1524bde82bd"
      },
      "execution_count": 6,
      "outputs": [
        {
          "output_type": "execute_result",
          "data": {
            "text/plain": [
              "False"
            ]
          },
          "metadata": {},
          "execution_count": 6
        }
      ]
    },
    {
      "cell_type": "code",
      "source": [
        "isPalindrome(123)"
      ],
      "metadata": {
        "colab": {
          "base_uri": "https://localhost:8080/"
        },
        "id": "enh0Tx28N2HA",
        "outputId": "7efbd7dd-ea4d-40f7-a470-bc719d2e68cf"
      },
      "execution_count": 7,
      "outputs": [
        {
          "output_type": "execute_result",
          "data": {
            "text/plain": [
              "False"
            ]
          },
          "metadata": {},
          "execution_count": 7
        }
      ]
    }
  ]
}