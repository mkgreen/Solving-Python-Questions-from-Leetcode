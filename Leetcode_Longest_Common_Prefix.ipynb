{
  "nbformat": 4,
  "nbformat_minor": 0,
  "metadata": {
    "colab": {
      "provenance": [],
      "authorship_tag": "ABX9TyOnBPdKYlAXr7t1U34p4gr2",
      "include_colab_link": true
    },
    "kernelspec": {
      "name": "python3",
      "display_name": "Python 3"
    },
    "language_info": {
      "name": "python"
    }
  },
  "cells": [
    {
      "cell_type": "markdown",
      "metadata": {
        "id": "view-in-github",
        "colab_type": "text"
      },
      "source": [
        "<a href=\"https://colab.research.google.com/github/mkgreen/Solving-Python-Questions-from-Leetcode/blob/main/Leetcode_Longest_Common_Prefix.ipynb\" target=\"_parent\"><img src=\"https://colab.research.google.com/assets/colab-badge.svg\" alt=\"Open In Colab\"/></a>"
      ]
    },
    {
      "cell_type": "markdown",
      "source": [
        "# LC Longest Common Prefix\n",
        "\n",
        "Write a function to find the longest common prefix string amongst an array of strings.\n",
        "\n",
        "If there is no common prefix, return an empty string \"\".\n",
        "\n",
        " \n",
        "\n",
        "**Example 1:**\n",
        "\n",
        "      Input: strs = [\"flower\",\"flow\",\"flight\"]\n",
        "      Output: \"fl\"\n",
        "**Example 2:**\n",
        "\n",
        "      Input: strs = [\"dog\",\"racecar\",\"car\"]\n",
        "      Output: \"\"\n",
        "      Explanation: There is no common prefix among the input strings.\n",
        " \n",
        "\n",
        "**Constraints:**\n",
        "\n",
        "- 1 <= strs.length <= 200\n",
        "- 0 <= strs[i].length <= 200\n",
        "- strs[i] consists of only lowercase English letters."
      ],
      "metadata": {
        "id": "RwCaOSUWGykp"
      }
    },
    {
      "cell_type": "code",
      "source": [
        "from typing import List\n",
        "\n",
        "def longestCommonPrefix(strs: List[str]) -> str:\n",
        "    if not strs:\n",
        "        return \"\"\n",
        "\n",
        "    prefix = strs[0]\n",
        "    for i in range(1, len(strs)):\n",
        "        while strs[i].find(prefix) != 0:\n",
        "            prefix = prefix[:len(prefix)-1]\n",
        "            if not prefix:\n",
        "                return \"\"\n",
        "\n",
        "    return prefix\n",
        "\n",
        "# test cases\n",
        "print(longestCommonPrefix([\"flower\",\"flow\",\"flight\"]))  # expected output: \"fl\"\n",
        "print(longestCommonPrefix([\"dog\",\"racecar\",\"car\"]))  # expected output: \"\"\n",
        "print(longestCommonPrefix([\"apple\", \"ape\", \"apartment\"]))  # expected output: \"ap\""
      ],
      "metadata": {
        "colab": {
          "base_uri": "https://localhost:8080/"
        },
        "id": "w8i4xJApKIGq",
        "outputId": "797c5613-a9ff-4968-ee4b-42a2c807ce39"
      },
      "execution_count": 12,
      "outputs": [
        {
          "output_type": "stream",
          "name": "stdout",
          "text": [
            "fl\n",
            "\n",
            "ap\n"
          ]
        }
      ]
    },
    {
      "cell_type": "markdown",
      "source": [
        "The longestCommonPrefix function takes in a list of strings strs and returns the longest common prefix string among them. If there is no common prefix, it returns an empty string.\n",
        "\n",
        "The function starts by checking if the list is empty. There can't be a common prefix if it is, so it returns an empty string.\n",
        "If the list is not empty, the function sets the first string in the list as the initial prefix. It then loops through the remaining strings in the list, comparing each one to the prefix.\n",
        "\n",
        "The function uses a while loop for each string to find the longest common prefix between the string and the current prefix. It does this by repeatedly removing the last character from the prefix until the string starts with the prefix.\n",
        "If the prefix becomes empty during this process, there is no common prefix, so the function returns an empty string.\n",
        "\n",
        "Finally, the function returns the longest common prefix it found.\n",
        "The code includes three test cases at the end, which call the function with different input lists and print the expected output. These test cases help verify that the function works correctly."
      ],
      "metadata": {
        "id": "hgn4xcMeLl2d"
      }
    }
  ]
}