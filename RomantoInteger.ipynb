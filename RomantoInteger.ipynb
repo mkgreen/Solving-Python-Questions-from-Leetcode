{
  "nbformat": 4,
  "nbformat_minor": 0,
  "metadata": {
    "colab": {
      "provenance": [],
      "authorship_tag": "ABX9TyPdfgGV9I6n75ueB/0kwqZv",
      "include_colab_link": true
    },
    "kernelspec": {
      "name": "python3",
      "display_name": "Python 3"
    },
    "language_info": {
      "name": "python"
    }
  },
  "cells": [
    {
      "cell_type": "markdown",
      "metadata": {
        "id": "view-in-github",
        "colab_type": "text"
      },
      "source": [
        "<a href=\"https://colab.research.google.com/github/mkgreen/Solving-Python-Questions-from-Leetcode/blob/main/RomantoInteger.ipynb\" target=\"_parent\"><img src=\"https://colab.research.google.com/assets/colab-badge.svg\" alt=\"Open In Colab\"/></a>"
      ]
    },
    {
      "cell_type": "markdown",
      "source": [
        "#Given a roman numeral, convert it to an integer."
      ],
      "metadata": {
        "id": "_NKN-bpl3oR2"
      }
    },
    {
      "cell_type": "markdown",
      "source": [
        "The 'romanToInt' method converts a Roman numeral s to an integer.\n",
        "\n",
        "This method initializes a dictionary that maps each Roman numeral to its corresponding integer value. The method also initializes a variable result to 0 and a variable prev_value to 0.\n",
        "\n",
        "The method iterates through each character in the input string s. For each character, it retrieves its corresponding integer value from the roman_dict dictionary.\n",
        "\n",
        "If the current value is greater than the previous value, the method subtracts twice the previous value from the current value and adds the result to result. This is because when a smaller value appears before a larger value in roman numerals, the smaller value is subtracted from the larger value. Otherwise, the code would add the current value to the result ignoring this rule of roman numerals. The method then updates the previous value to the current value.\n",
        "\n",
        "Finally, the method will return the result, which represents the integer value of the input Roman numeral."
      ],
      "metadata": {
        "id": "RsFwd0YJ21oz"
      }
    },
    {
      "cell_type": "code",
      "source": [
        "class Solution:\n",
        "    def romanToInt(self, s: str) -> int:\n",
        "        roman_dict = {'I': 1, 'V': 5, 'X': 10, 'L': 50, 'C': 100, 'D': 500, 'M': 1000}\n",
        "        result = 0\n",
        "        prev_value = 0\n",
        "\n",
        "        for i in s:\n",
        "            curr_value = roman_dict[i]\n",
        "            if curr_value > prev_value:\n",
        "                result += curr_value - 2 * prev_value\n",
        "            else:\n",
        "                result += curr_value\n",
        "            prev_value = curr_value\n",
        "\n",
        "        return result"
      ],
      "metadata": {
        "id": "KUQGWuC8x8vj"
      },
      "execution_count": 5,
      "outputs": []
    },
    {
      "cell_type": "markdown",
      "source": [
        "**Testing the function:**"
      ],
      "metadata": {
        "id": "HuJt05MB37Tu"
      }
    },
    {
      "cell_type": "code",
      "source": [
        "romanToInt(\"III\")"
      ],
      "metadata": {
        "colab": {
          "base_uri": "https://localhost:8080/"
        },
        "id": "0jBBanpDyCkU",
        "outputId": "d79747be-a0ee-4f18-aff3-a25b5298870f"
      },
      "execution_count": 6,
      "outputs": [
        {
          "output_type": "execute_result",
          "data": {
            "text/plain": [
              "3"
            ]
          },
          "metadata": {},
          "execution_count": 6
        }
      ]
    },
    {
      "cell_type": "code",
      "source": [
        "romanToInt(\"IV\")"
      ],
      "metadata": {
        "colab": {
          "base_uri": "https://localhost:8080/"
        },
        "id": "GuxEC5HY3QOJ",
        "outputId": "2e865707-a43d-4b96-f80d-f5afbac7589c"
      },
      "execution_count": 7,
      "outputs": [
        {
          "output_type": "execute_result",
          "data": {
            "text/plain": [
              "4"
            ]
          },
          "metadata": {},
          "execution_count": 7
        }
      ]
    },
    {
      "cell_type": "code",
      "source": [
        "romanToInt(\"CDM\")"
      ],
      "metadata": {
        "colab": {
          "base_uri": "https://localhost:8080/"
        },
        "id": "0UmbBk473TT_",
        "outputId": "7d43d537-af56-44b4-882e-6403c3db4a54"
      },
      "execution_count": 8,
      "outputs": [
        {
          "output_type": "execute_result",
          "data": {
            "text/plain": [
              "1400"
            ]
          },
          "metadata": {},
          "execution_count": 8
        }
      ]
    }
  ]
}